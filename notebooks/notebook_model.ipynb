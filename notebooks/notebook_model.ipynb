{
 "cells": [
  {
   "cell_type": "markdown",
   "id": "cd15f0f5",
   "metadata": {},
   "source": [
    "# SOMMAIRE:\n",
    "* [Importations](#import)\n",
    "* [Baseline](#base)\n",
    "* [Iterations](#ite)\n"
   ]
  },
  {
   "cell_type": "markdown",
   "id": "45738dd5",
   "metadata": {},
   "source": [
    "## Importations <a class=\"anchor\" id=\"import\"></a>"
   ]
  },
  {
   "cell_type": "code",
   "execution_count": null,
   "id": "8ab27137",
   "metadata": {},
   "outputs": [],
   "source": [
    "# Import pandas\n",
    "\n",
    "import pandas as pd"
   ]
  },
  {
   "cell_type": "code",
   "execution_count": null,
   "id": "cb4721ab",
   "metadata": {},
   "outputs": [],
   "source": [
    "# Import sklearn\n",
    "\n",
    "from sklearn.model_selection import train_test_split\n",
    "from sklearn.model_selection import cross_validate\n",
    "from sklearn.model_selection import cross_val_score\n",
    "from sklearn.model_selection import cross_val_predict\n",
    "from sklearn.model_selection import learning_curve\n",
    "\n",
    "from sklearn.linear_model import LogisticRegression\n",
    "from sklearn.dummy import DummyClassifier\n",
    "from sklearn.neighbors import KNeighborsClassifier\n",
    "\n",
    "from sklearn.metrics import accuracy_score, precision_score, recall_score, f1_score, \\\n",
    "    confusion_matrix, classification_report\n",
    "from sklearn.metrics import roc_auc_score, plot_roc_curve, roc_curve\n",
    "from sklearn.metrics import average_precision_score\n",
    "from sklearn.metrics import precision_recall_curve,plot_precision_recall_curve"
   ]
  },
  {
   "cell_type": "markdown",
   "id": "4040ade3",
   "metadata": {},
   "source": [
    "## Baseline <a class=\"anchor\" id=\"base\"></a>"
   ]
  },
  {
   "cell_type": "code",
   "execution_count": null,
   "id": "0ab1bcbf",
   "metadata": {},
   "outputs": [],
   "source": [
    "# Let's start building a dummy model using DummyClassifier with strategy \"most_frequent\". And calculate the score\n",
    "# To do so, use all features in X and Outcome as target (y)\n",
    "# define X, y\n",
    "\n",
    "y = diabetes_df[\"Ocean\"]\n",
    "X = diabetes_df.drop(\"\", axis=1)"
   ]
  },
  {
   "cell_type": "code",
   "execution_count": null,
   "id": "26f7fb4a",
   "metadata": {},
   "outputs": [],
   "source": [
    "# instantiate Dummy classifier\n",
    "\n",
    "dummy_clf = DummyClassifier(strategy=\"most_frequent\")"
   ]
  },
  {
   "cell_type": "code",
   "execution_count": null,
   "id": "d53fd721",
   "metadata": {},
   "outputs": [],
   "source": [
    "# fit the modem\n",
    "\n",
    "dummy_clf.fit(X, y)"
   ]
  },
  {
   "cell_type": "code",
   "execution_count": null,
   "id": "16b37dd5",
   "metadata": {},
   "outputs": [],
   "source": [
    "# calculate the score\n",
    "\n",
    "dummy_clf.score(X, y)"
   ]
  },
  {
   "cell_type": "markdown",
   "id": "b9a85a83",
   "metadata": {},
   "source": [
    "## Hold out method <a class=\"anchor\" id=\"hold\"></a>\n",
    "split the date in 70% train and 30% test."
   ]
  },
  {
   "cell_type": "code",
   "execution_count": null,
   "id": "983bf0b0",
   "metadata": {},
   "outputs": [],
   "source": [
    "#Fit the dummy model with the train and score with the test\n",
    "\n",
    "# Splitting the data, use random_state = 1 for the split\n",
    "\n",
    "X_train, X_test, y_train, y_test = train_test_split(X, y, \n",
    "                                                    test_size=.3, \n",
    "                                                    random_state=1)"
   ]
  },
  {
   "cell_type": "code",
   "execution_count": null,
   "id": "f2ed6a68",
   "metadata": {},
   "outputs": [],
   "source": [
    "# using DummyClassifier\n",
    "\n",
    "dummy_clf = DummyClassifier(strategy=\"most_frequent\")"
   ]
  },
  {
   "cell_type": "code",
   "execution_count": null,
   "id": "4cecea82",
   "metadata": {},
   "outputs": [],
   "source": [
    "# fit the model\n",
    "\n",
    "dummy_clf.fit(X_train, y_train)"
   ]
  },
  {
   "cell_type": "code",
   "execution_count": null,
   "id": "0814014a",
   "metadata": {},
   "outputs": [],
   "source": [
    "# calculate the score\n",
    "\n",
    "dummy_clf.score(X_test, y_test)"
   ]
  },
  {
   "cell_type": "markdown",
   "id": "266ad31b",
   "metadata": {},
   "source": [
    "## Iterations <a class=\"anchor\" id=\"ite\"></a>"
   ]
  },
  {
   "cell_type": "code",
   "execution_count": null,
   "id": "f30c29a5",
   "metadata": {},
   "outputs": [],
   "source": []
  }
 ],
 "metadata": {
  "kernelspec": {
   "display_name": "Python 3 (ipykernel)",
   "language": "python",
   "name": "python3"
  },
  "language_info": {
   "codemirror_mode": {
    "name": "ipython",
    "version": 3
   },
   "file_extension": ".py",
   "mimetype": "text/x-python",
   "name": "python",
   "nbconvert_exporter": "python",
   "pygments_lexer": "ipython3",
   "version": "3.8.12"
  },
  "toc": {
   "base_numbering": 1,
   "nav_menu": {},
   "number_sections": true,
   "sideBar": true,
   "skip_h1_title": false,
   "title_cell": "Table of Contents",
   "title_sidebar": "Contents",
   "toc_cell": false,
   "toc_position": {},
   "toc_section_display": true,
   "toc_window_display": false
  }
 },
 "nbformat": 4,
 "nbformat_minor": 5
}
