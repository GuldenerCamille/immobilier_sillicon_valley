{
 "cells": [
  {
   "cell_type": "markdown",
   "id": "cd15f0f5",
   "metadata": {},
   "source": [
    "# SOMMAIRE:\n",
    "* [Importations](#import)\n",
    "* [Baseline](#base)\n",
    "* [Iterations](#ite)\n"
   ]
  },
  {
   "cell_type": "markdown",
   "id": "45738dd5",
   "metadata": {},
   "source": [
    "## Importations <a class=\"anchor\" id=\"import\"></a>"
   ]
  },
  {
   "cell_type": "code",
   "execution_count": null,
   "id": "8ab27137",
   "metadata": {},
   "outputs": [],
   "source": []
  },
  {
   "cell_type": "markdown",
   "id": "4040ade3",
   "metadata": {},
   "source": [
    "## Baseline <a class=\"anchor\" id=\"base\"></a>"
   ]
  },
  {
   "cell_type": "code",
   "execution_count": null,
   "id": "0ab1bcbf",
   "metadata": {},
   "outputs": [],
   "source": []
  },
  {
   "cell_type": "markdown",
   "id": "266ad31b",
   "metadata": {},
   "source": [
    "## Iterations <a class=\"anchor\" id=\"ite\"></a>"
   ]
  }
 ],
 "metadata": {
  "kernelspec": {
   "display_name": "Python 3 (ipykernel)",
   "language": "python",
   "name": "python3"
  },
  "language_info": {
   "codemirror_mode": {
    "name": "ipython",
    "version": 3
   },
   "file_extension": ".py",
   "mimetype": "text/x-python",
   "name": "python",
   "nbconvert_exporter": "python",
   "pygments_lexer": "ipython3",
   "version": "3.8.12"
  },
  "toc": {
   "base_numbering": 1,
   "nav_menu": {},
   "number_sections": true,
   "sideBar": true,
   "skip_h1_title": false,
   "title_cell": "Table of Contents",
   "title_sidebar": "Contents",
   "toc_cell": false,
   "toc_position": {},
   "toc_section_display": true,
   "toc_window_display": false
  }
 },
 "nbformat": 4,
 "nbformat_minor": 5
}
