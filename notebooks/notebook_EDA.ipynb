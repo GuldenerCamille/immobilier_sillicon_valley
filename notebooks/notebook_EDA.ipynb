{
 "cells": [
  {
   "cell_type": "markdown",
   "id": "91f92637",
   "metadata": {},
   "source": [
    "# SOMMAIRE:\n",
    "* [Importations](#import)\n",
    "* [Observation de notre dataset](#obs)\n",
    "* [Gestion des null](#null)\n"
   ]
  },
  {
   "cell_type": "markdown",
   "id": "8ca31a4c",
   "metadata": {},
   "source": [
    "## Importations <a class=\"anchor\" id=\"import\"></a>"
   ]
  },
  {
   "cell_type": "code",
   "execution_count": null,
   "id": "ecb8f148",
   "metadata": {},
   "outputs": [],
   "source": [
    "#Importer dataset immobilier : data\n",
    "df_immobilier  = pd.read_csv(\"data.csv\")"
   ]
  },
  {
   "cell_type": "markdown",
   "id": "e8efe592",
   "metadata": {},
   "source": [
    "## Observation de notre dataset <a class=\"anchor\" id=\"obs\"></a>"
   ]
  },
  {
   "cell_type": "code",
   "execution_count": null,
   "id": "af3398aa",
   "metadata": {},
   "outputs": [],
   "source": []
  },
  {
   "cell_type": "markdown",
   "id": "e8d9a9c9",
   "metadata": {},
   "source": [
    "## Gestion des null <a class=\"anchor\" id=\"null\"></a>"
   ]
  },
  {
   "cell_type": "code",
   "execution_count": null,
   "id": "40252f46",
   "metadata": {},
   "outputs": [],
   "source": []
  }
 ],
 "metadata": {
  "kernelspec": {
   "display_name": "Python 3 (ipykernel)",
   "language": "python",
   "name": "python3"
  },
  "language_info": {
   "codemirror_mode": {
    "name": "ipython",
    "version": 3
   },
   "file_extension": ".py",
   "mimetype": "text/x-python",
   "name": "python",
   "nbconvert_exporter": "python",
   "pygments_lexer": "ipython3",
   "version": "3.8.12"
  },
  "toc": {
   "base_numbering": 1,
   "nav_menu": {},
   "number_sections": true,
   "sideBar": true,
   "skip_h1_title": false,
   "title_cell": "Table of Contents",
   "title_sidebar": "Contents",
   "toc_cell": false,
   "toc_position": {},
   "toc_section_display": true,
   "toc_window_display": false
  }
 },
 "nbformat": 4,
 "nbformat_minor": 5
}
