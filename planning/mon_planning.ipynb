{
 "cells": [
  {
   "cell_type": "markdown",
   "id": "7cd74623",
   "metadata": {},
   "source": [
    "# Mon planning:\n",
    "* [Planning prévisionnel](#plan_pre)\n",
    "* [Planning réalisé](#plan_rea)\n",
    "* [Amelioration](#ame)"
   ]
  },
  {
   "cell_type": "markdown",
   "id": "4005d517",
   "metadata": {},
   "source": [
    "## Planning prévisionnel <a class=\"anchor\" id=\"plan_pre\"></a>"
   ]
  },
  {
   "cell_type": "markdown",
   "id": "c3344d5d",
   "metadata": {},
   "source": [
    "### Janvier : \n",
    "- 12 : EDA + Baseline\n",
    "- 13 : Iteration , cross validation, nettoyage des donnés, scaling, veille knn\n",
    "- 25 : \n",
    "### Fevrier : \n",
    "- 1 : Pipelines pour industrialiser le processus (automatiser), Model hyperparametre\n"
   ]
  },
  {
   "cell_type": "markdown",
   "id": "11e2bf17",
   "metadata": {},
   "source": [
    "## Planning realisé <a class=\"anchor\" id=\"plan_rea\"></a>"
   ]
  },
  {
   "cell_type": "markdown",
   "id": "c328fb68",
   "metadata": {},
   "source": [
    "### Janvier : \n",
    "- 12 : Creation repository local et remote + Création planning + veille : EDA + Debut EDA + creation Figma\n",
    "- 13 : EDA + veille alias + creation alias\n",
    "- 15 : EDA \n",
    "- 17 : Planning update\n",
    "- 25 : \n",
    "### Fevrier : \n",
    "- 1 : "
   ]
  },
  {
   "cell_type": "markdown",
   "id": "e5978808",
   "metadata": {},
   "source": [
    "## Amélioration <a class=\"anchor\" id=\"ame\"></a>"
   ]
  },
  {
   "cell_type": "code",
   "execution_count": null,
   "id": "53c00085",
   "metadata": {},
   "outputs": [],
   "source": []
  }
 ],
 "metadata": {
  "kernelspec": {
   "display_name": "Python 3 (ipykernel)",
   "language": "python",
   "name": "python3"
  },
  "language_info": {
   "codemirror_mode": {
    "name": "ipython",
    "version": 3
   },
   "file_extension": ".py",
   "mimetype": "text/x-python",
   "name": "python",
   "nbconvert_exporter": "python",
   "pygments_lexer": "ipython3",
   "version": "3.8.12"
  },
  "toc": {
   "base_numbering": 1,
   "nav_menu": {},
   "number_sections": true,
   "sideBar": true,
   "skip_h1_title": false,
   "title_cell": "Table of Contents",
   "title_sidebar": "Contents",
   "toc_cell": false,
   "toc_position": {},
   "toc_section_display": true,
   "toc_window_display": false
  }
 },
 "nbformat": 4,
 "nbformat_minor": 5
}
